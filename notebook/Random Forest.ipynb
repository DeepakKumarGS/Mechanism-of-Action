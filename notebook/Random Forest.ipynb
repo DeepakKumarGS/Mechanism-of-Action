{
 "cells": [
  {
   "cell_type": "code",
   "execution_count": 1,
   "metadata": {
    "execution": {
     "iopub.execute_input": "2020-10-01T02:02:09.429294Z",
     "iopub.status.busy": "2020-10-01T02:02:09.428431Z",
     "iopub.status.idle": "2020-10-01T02:02:09.432036Z",
     "shell.execute_reply": "2020-10-01T02:02:09.431177Z"
    },
    "papermill": {
     "duration": 0.031468,
     "end_time": "2020-10-01T02:02:09.432186",
     "exception": false,
     "start_time": "2020-10-01T02:02:09.400718",
     "status": "completed"
    },
    "tags": []
   },
   "outputs": [],
   "source": [
    "# #Import rapids library,\n",
    "# import sys\n",
    "# !cp ../input/rapids/rapids.0.14.0 /opt/conda/envs/rapids.tar.gz\n",
    "# !cd /opt/conda/envs/ && tar -xzvf rapids.tar.gz > /dev/null\n",
    "# sys.path = [\"/opt/conda/envs/rapids/lib/python3.7/site-packages\"] + sys.path\n",
    "# sys.path = [\"/opt/conda/envs/rapids/lib/python3.7\"] + sys.path\n",
    "# sys.path = [\"/opt/conda/envs/rapids/lib\"] + sys.path \n",
    "# !cp /opt/conda/envs/rapids/lib/libxgboost.so /opt/conda/lib/"
   ]
  },
  {
   "cell_type": "code",
   "execution_count": 2,
   "metadata": {
    "_cell_guid": "b1076dfc-b9ad-4769-8c92-a6c4dae69d19",
    "_uuid": "8f2839f25d086af736a60e9eeb907d3b93b6e0e5",
    "execution": {
     "iopub.execute_input": "2020-10-01T02:02:09.482596Z",
     "iopub.status.busy": "2020-10-01T02:02:09.481680Z",
     "iopub.status.idle": "2020-10-01T02:02:10.604780Z",
     "shell.execute_reply": "2020-10-01T02:02:10.604031Z"
    },
    "papermill": {
     "duration": 1.151231,
     "end_time": "2020-10-01T02:02:10.604933",
     "exception": false,
     "start_time": "2020-10-01T02:02:09.453702",
     "status": "completed"
    },
    "tags": []
   },
   "outputs": [
    {
     "name": "stdout",
     "output_type": "stream",
     "text": [
      "/kaggle/input/rapids/rapids.0.15.0\n",
      "/kaggle/input/rapids/rapids.0.14.0\n",
      "/kaggle/input/lish-moa/test_features.csv\n",
      "/kaggle/input/lish-moa/train_features.csv\n",
      "/kaggle/input/lish-moa/train_targets_scored.csv\n",
      "/kaggle/input/lish-moa/train_targets_nonscored.csv\n",
      "/kaggle/input/lish-moa/sample_submission.csv\n"
     ]
    }
   ],
   "source": [
    "# This Python 3 environment comes with many helpful analytics libraries installed\n",
    "# It is defined by the kaggle/python Docker image: https://github.com/kaggle/docker-python\n",
    "# For example, here's several helpful packages to load\n",
    "#import cudf\n",
    "#import cupy as cp\n",
    "import numpy as np # linear algebra\n",
    "import pandas as pd # data processing, CSV file I/O (e.g. pd.read_csv)\n",
    "import lightgbm as lgb\n",
    "# Input data files are available in the read-only \"../input/\" directory\n",
    "# For example, running this (by clicking run or pressing Shift+Enter) will list all files under the input directory\n",
    "\n",
    "import os\n",
    "for dirname, _, filenames in os.walk('/kaggle/input'):\n",
    "    for filename in filenames:\n",
    "        print(os.path.join(dirname, filename))\n",
    "\n",
    "# You can write up to 5GB to the current directory (/kaggle/working/) that gets preserved as output when you create a version using \"Save & Run All\" \n",
    "# You can also write temporary files to /kaggle/temp/, but they won't be saved outside of the current session"
   ]
  },
  {
   "cell_type": "code",
   "execution_count": 3,
   "metadata": {
    "execution": {
     "iopub.execute_input": "2020-10-01T02:02:10.653766Z",
     "iopub.status.busy": "2020-10-01T02:02:10.653040Z",
     "iopub.status.idle": "2020-10-01T02:02:10.656459Z",
     "shell.execute_reply": "2020-10-01T02:02:10.655719Z"
    },
    "papermill": {
     "duration": 0.029334,
     "end_time": "2020-10-01T02:02:10.656579",
     "exception": false,
     "start_time": "2020-10-01T02:02:10.627245",
     "status": "completed"
    },
    "tags": []
   },
   "outputs": [],
   "source": [
    "#cudf.__version__"
   ]
  },
  {
   "cell_type": "code",
   "execution_count": 4,
   "metadata": {
    "_cell_guid": "79c7e3d0-c299-4dcb-8224-4455121ee9b0",
    "_uuid": "d629ff2d2480ee46fbb7e2d37f6b5fab8052498a",
    "execution": {
     "iopub.execute_input": "2020-10-01T02:02:10.708606Z",
     "iopub.status.busy": "2020-10-01T02:02:10.707764Z",
     "iopub.status.idle": "2020-10-01T02:02:10.942930Z",
     "shell.execute_reply": "2020-10-01T02:02:10.942006Z"
    },
    "papermill": {
     "duration": 0.263497,
     "end_time": "2020-10-01T02:02:10.943065",
     "exception": false,
     "start_time": "2020-10-01T02:02:10.679568",
     "status": "completed"
    },
    "tags": []
   },
   "outputs": [],
   "source": [
    "from sklearn.metrics import roc_auc_score\n",
    "#from sklearn.linear_model import LogisticRegression\n",
    "from sklearn.svm import SVC\n",
    "from sklearn.feature_selection import VarianceThreshold\n",
    "from sklearn.model_selection import StratifiedKFold\n",
    "from collections import defaultdict\n",
    "from sklearn.model_selection import cross_val_score\n",
    "from sklearn.linear_model import LogisticRegression\n",
    "from sklearn.ensemble import RandomForestClassifier\n",
    "#from cuml.linear_model import LogisticRegression"
   ]
  },
  {
   "cell_type": "code",
   "execution_count": 5,
   "metadata": {
    "execution": {
     "iopub.execute_input": "2020-10-01T02:02:10.997546Z",
     "iopub.status.busy": "2020-10-01T02:02:10.996594Z",
     "iopub.status.idle": "2020-10-01T02:02:17.971129Z",
     "shell.execute_reply": "2020-10-01T02:02:17.970072Z"
    },
    "papermill": {
     "duration": 7.005633,
     "end_time": "2020-10-01T02:02:17.971321",
     "exception": false,
     "start_time": "2020-10-01T02:02:10.965688",
     "status": "completed"
    },
    "tags": []
   },
   "outputs": [],
   "source": [
    "train_features=pd.read_csv('../input/lish-moa/train_features.csv')\n",
    "test_features=pd.read_csv('../input/lish-moa/test_features.csv')\n",
    "train_targets_scored=pd.read_csv('../input/lish-moa/train_targets_scored.csv')\n",
    "sample_submission=pd.read_csv('../input/lish-moa/sample_submission.csv')"
   ]
  },
  {
   "cell_type": "code",
   "execution_count": 6,
   "metadata": {
    "execution": {
     "iopub.execute_input": "2020-10-01T02:02:18.046338Z",
     "iopub.status.busy": "2020-10-01T02:02:18.045471Z",
     "iopub.status.idle": "2020-10-01T02:02:18.094229Z",
     "shell.execute_reply": "2020-10-01T02:02:18.093579Z"
    },
    "papermill": {
     "duration": 0.089481,
     "end_time": "2020-10-01T02:02:18.094365",
     "exception": false,
     "start_time": "2020-10-01T02:02:18.004884",
     "status": "completed"
    },
    "tags": []
   },
   "outputs": [
    {
     "data": {
      "text/html": [
       "<div>\n",
       "<style scoped>\n",
       "    .dataframe tbody tr th:only-of-type {\n",
       "        vertical-align: middle;\n",
       "    }\n",
       "\n",
       "    .dataframe tbody tr th {\n",
       "        vertical-align: top;\n",
       "    }\n",
       "\n",
       "    .dataframe thead th {\n",
       "        text-align: right;\n",
       "    }\n",
       "</style>\n",
       "<table border=\"1\" class=\"dataframe\">\n",
       "  <thead>\n",
       "    <tr style=\"text-align: right;\">\n",
       "      <th></th>\n",
       "      <th>sig_id</th>\n",
       "      <th>cp_type</th>\n",
       "      <th>cp_time</th>\n",
       "      <th>cp_dose</th>\n",
       "      <th>g-0</th>\n",
       "      <th>g-1</th>\n",
       "      <th>g-2</th>\n",
       "      <th>g-3</th>\n",
       "      <th>g-4</th>\n",
       "      <th>g-5</th>\n",
       "      <th>...</th>\n",
       "      <th>c-90</th>\n",
       "      <th>c-91</th>\n",
       "      <th>c-92</th>\n",
       "      <th>c-93</th>\n",
       "      <th>c-94</th>\n",
       "      <th>c-95</th>\n",
       "      <th>c-96</th>\n",
       "      <th>c-97</th>\n",
       "      <th>c-98</th>\n",
       "      <th>c-99</th>\n",
       "    </tr>\n",
       "  </thead>\n",
       "  <tbody>\n",
       "    <tr>\n",
       "      <th>0</th>\n",
       "      <td>id_000644bb2</td>\n",
       "      <td>trt_cp</td>\n",
       "      <td>24</td>\n",
       "      <td>D1</td>\n",
       "      <td>1.0620</td>\n",
       "      <td>0.5577</td>\n",
       "      <td>-0.2479</td>\n",
       "      <td>-0.6208</td>\n",
       "      <td>-0.1944</td>\n",
       "      <td>-1.0120</td>\n",
       "      <td>...</td>\n",
       "      <td>0.2862</td>\n",
       "      <td>0.2584</td>\n",
       "      <td>0.8076</td>\n",
       "      <td>0.5523</td>\n",
       "      <td>-0.1912</td>\n",
       "      <td>0.6584</td>\n",
       "      <td>-0.3981</td>\n",
       "      <td>0.2139</td>\n",
       "      <td>0.3801</td>\n",
       "      <td>0.4176</td>\n",
       "    </tr>\n",
       "    <tr>\n",
       "      <th>1</th>\n",
       "      <td>id_000779bfc</td>\n",
       "      <td>trt_cp</td>\n",
       "      <td>72</td>\n",
       "      <td>D1</td>\n",
       "      <td>0.0743</td>\n",
       "      <td>0.4087</td>\n",
       "      <td>0.2991</td>\n",
       "      <td>0.0604</td>\n",
       "      <td>1.0190</td>\n",
       "      <td>0.5207</td>\n",
       "      <td>...</td>\n",
       "      <td>-0.4265</td>\n",
       "      <td>0.7543</td>\n",
       "      <td>0.4708</td>\n",
       "      <td>0.0230</td>\n",
       "      <td>0.2957</td>\n",
       "      <td>0.4899</td>\n",
       "      <td>0.1522</td>\n",
       "      <td>0.1241</td>\n",
       "      <td>0.6077</td>\n",
       "      <td>0.7371</td>\n",
       "    </tr>\n",
       "    <tr>\n",
       "      <th>2</th>\n",
       "      <td>id_000a6266a</td>\n",
       "      <td>trt_cp</td>\n",
       "      <td>48</td>\n",
       "      <td>D1</td>\n",
       "      <td>0.6280</td>\n",
       "      <td>0.5817</td>\n",
       "      <td>1.5540</td>\n",
       "      <td>-0.0764</td>\n",
       "      <td>-0.0323</td>\n",
       "      <td>1.2390</td>\n",
       "      <td>...</td>\n",
       "      <td>-0.7250</td>\n",
       "      <td>-0.6297</td>\n",
       "      <td>0.6103</td>\n",
       "      <td>0.0223</td>\n",
       "      <td>-1.3240</td>\n",
       "      <td>-0.3174</td>\n",
       "      <td>-0.6417</td>\n",
       "      <td>-0.2187</td>\n",
       "      <td>-1.4080</td>\n",
       "      <td>0.6931</td>\n",
       "    </tr>\n",
       "    <tr>\n",
       "      <th>3</th>\n",
       "      <td>id_0015fd391</td>\n",
       "      <td>trt_cp</td>\n",
       "      <td>48</td>\n",
       "      <td>D1</td>\n",
       "      <td>-0.5138</td>\n",
       "      <td>-0.2491</td>\n",
       "      <td>-0.2656</td>\n",
       "      <td>0.5288</td>\n",
       "      <td>4.0620</td>\n",
       "      <td>-0.8095</td>\n",
       "      <td>...</td>\n",
       "      <td>-2.0990</td>\n",
       "      <td>-0.6441</td>\n",
       "      <td>-5.6300</td>\n",
       "      <td>-1.3780</td>\n",
       "      <td>-0.8632</td>\n",
       "      <td>-1.2880</td>\n",
       "      <td>-1.6210</td>\n",
       "      <td>-0.8784</td>\n",
       "      <td>-0.3876</td>\n",
       "      <td>-0.8154</td>\n",
       "    </tr>\n",
       "    <tr>\n",
       "      <th>4</th>\n",
       "      <td>id_001626bd3</td>\n",
       "      <td>trt_cp</td>\n",
       "      <td>72</td>\n",
       "      <td>D2</td>\n",
       "      <td>-0.3254</td>\n",
       "      <td>-0.4009</td>\n",
       "      <td>0.9700</td>\n",
       "      <td>0.6919</td>\n",
       "      <td>1.4180</td>\n",
       "      <td>-0.8244</td>\n",
       "      <td>...</td>\n",
       "      <td>0.0042</td>\n",
       "      <td>0.0048</td>\n",
       "      <td>0.6670</td>\n",
       "      <td>1.0690</td>\n",
       "      <td>0.5523</td>\n",
       "      <td>-0.3031</td>\n",
       "      <td>0.1094</td>\n",
       "      <td>0.2885</td>\n",
       "      <td>-0.3786</td>\n",
       "      <td>0.7125</td>\n",
       "    </tr>\n",
       "  </tbody>\n",
       "</table>\n",
       "<p>5 rows × 876 columns</p>\n",
       "</div>"
      ],
      "text/plain": [
       "         sig_id cp_type  cp_time cp_dose     g-0     g-1     g-2     g-3  \\\n",
       "0  id_000644bb2  trt_cp       24      D1  1.0620  0.5577 -0.2479 -0.6208   \n",
       "1  id_000779bfc  trt_cp       72      D1  0.0743  0.4087  0.2991  0.0604   \n",
       "2  id_000a6266a  trt_cp       48      D1  0.6280  0.5817  1.5540 -0.0764   \n",
       "3  id_0015fd391  trt_cp       48      D1 -0.5138 -0.2491 -0.2656  0.5288   \n",
       "4  id_001626bd3  trt_cp       72      D2 -0.3254 -0.4009  0.9700  0.6919   \n",
       "\n",
       "      g-4     g-5  ...    c-90    c-91    c-92    c-93    c-94    c-95  \\\n",
       "0 -0.1944 -1.0120  ...  0.2862  0.2584  0.8076  0.5523 -0.1912  0.6584   \n",
       "1  1.0190  0.5207  ... -0.4265  0.7543  0.4708  0.0230  0.2957  0.4899   \n",
       "2 -0.0323  1.2390  ... -0.7250 -0.6297  0.6103  0.0223 -1.3240 -0.3174   \n",
       "3  4.0620 -0.8095  ... -2.0990 -0.6441 -5.6300 -1.3780 -0.8632 -1.2880   \n",
       "4  1.4180 -0.8244  ...  0.0042  0.0048  0.6670  1.0690  0.5523 -0.3031   \n",
       "\n",
       "     c-96    c-97    c-98    c-99  \n",
       "0 -0.3981  0.2139  0.3801  0.4176  \n",
       "1  0.1522  0.1241  0.6077  0.7371  \n",
       "2 -0.6417 -0.2187 -1.4080  0.6931  \n",
       "3 -1.6210 -0.8784 -0.3876 -0.8154  \n",
       "4  0.1094  0.2885 -0.3786  0.7125  \n",
       "\n",
       "[5 rows x 876 columns]"
      ]
     },
     "execution_count": 6,
     "metadata": {},
     "output_type": "execute_result"
    }
   ],
   "source": [
    "train_features.head()"
   ]
  },
  {
   "cell_type": "code",
   "execution_count": 7,
   "metadata": {
    "execution": {
     "iopub.execute_input": "2020-10-01T02:02:18.148421Z",
     "iopub.status.busy": "2020-10-01T02:02:18.147272Z",
     "iopub.status.idle": "2020-10-01T02:02:18.151128Z",
     "shell.execute_reply": "2020-10-01T02:02:18.151875Z"
    },
    "papermill": {
     "duration": 0.034307,
     "end_time": "2020-10-01T02:02:18.152036",
     "exception": false,
     "start_time": "2020-10-01T02:02:18.117729",
     "status": "completed"
    },
    "tags": []
   },
   "outputs": [
    {
     "data": {
      "text/plain": [
       "206"
      ]
     },
     "execution_count": 7,
     "metadata": {},
     "output_type": "execute_result"
    }
   ],
   "source": [
    "targets=train_targets_scored.columns[1:]\n",
    "len(targets)"
   ]
  },
  {
   "cell_type": "code",
   "execution_count": 8,
   "metadata": {
    "execution": {
     "iopub.execute_input": "2020-10-01T02:02:18.212017Z",
     "iopub.status.busy": "2020-10-01T02:02:18.211171Z",
     "iopub.status.idle": "2020-10-01T02:02:18.223845Z",
     "shell.execute_reply": "2020-10-01T02:02:18.223206Z"
    },
    "papermill": {
     "duration": 0.047691,
     "end_time": "2020-10-01T02:02:18.223991",
     "exception": false,
     "start_time": "2020-10-01T02:02:18.176300",
     "status": "completed"
    },
    "tags": []
   },
   "outputs": [
    {
     "data": {
      "text/plain": [
       "358"
      ]
     },
     "execution_count": 8,
     "metadata": {},
     "output_type": "execute_result"
    }
   ],
   "source": [
    "ctrl_vehicle_idx=test_features[test_features['cp_type']=='ctl_vehicle']['sig_id'].values\n",
    "len(ctrl_vehicle_idx)"
   ]
  },
  {
   "cell_type": "code",
   "execution_count": 9,
   "metadata": {
    "execution": {
     "iopub.execute_input": "2020-10-01T02:02:18.284321Z",
     "iopub.status.busy": "2020-10-01T02:02:18.279317Z",
     "iopub.status.idle": "2020-10-01T02:02:18.424111Z",
     "shell.execute_reply": "2020-10-01T02:02:18.422509Z"
    },
    "papermill": {
     "duration": 0.175414,
     "end_time": "2020-10-01T02:02:18.424315",
     "exception": false,
     "start_time": "2020-10-01T02:02:18.248901",
     "status": "completed"
    },
    "tags": []
   },
   "outputs": [],
   "source": [
    "tr_idx=train_features[train_features['cp_type']!='ctl_vehicle']['sig_id']\n",
    "te_idx=test_features[test_features['cp_type']!='ctl_vehicle']['sig_id']"
   ]
  },
  {
   "cell_type": "code",
   "execution_count": 10,
   "metadata": {
    "execution": {
     "iopub.execute_input": "2020-10-01T02:02:18.509847Z",
     "iopub.status.busy": "2020-10-01T02:02:18.508631Z",
     "iopub.status.idle": "2020-10-01T02:02:19.003092Z",
     "shell.execute_reply": "2020-10-01T02:02:19.002109Z"
    },
    "papermill": {
     "duration": 0.545558,
     "end_time": "2020-10-01T02:02:19.003268",
     "exception": false,
     "start_time": "2020-10-01T02:02:18.457710",
     "status": "completed"
    },
    "tags": []
   },
   "outputs": [],
   "source": [
    "##train features,\n",
    "\n",
    "#test_df=test_features.loc[te_idx,:]\n",
    "train_df=pd.concat([train_features,pd.get_dummies(train_features['cp_time'],prefix='cp_time')],axis=1)\n",
    "train_df=pd.concat([train_df,pd.get_dummies(train_df['cp_type'],prefix='cp_type')],axis=1)\n",
    "train_df=pd.concat([train_df,pd.get_dummies(train_df['cp_dose'],prefix='cp_dose')],axis=1)\n",
    "train_df=train_df.drop(['cp_time','cp_type','cp_dose'],axis=1)\n",
    "\n",
    "#test features,\n",
    "test_df=pd.concat([test_features,pd.get_dummies(test_features['cp_time'],prefix='cp_time')],axis=1)\n",
    "test_df=pd.concat([test_df,pd.get_dummies(test_df['cp_type'],prefix='cp_type')],axis=1)\n",
    "test_df=pd.concat([test_df,pd.get_dummies(test_df['cp_dose'],prefix='cp_dose')],axis=1)\n",
    "test_df=test_df.drop(['cp_time','cp_type','cp_dose'],axis=1)"
   ]
  },
  {
   "cell_type": "code",
   "execution_count": 11,
   "metadata": {
    "execution": {
     "iopub.execute_input": "2020-10-01T02:02:19.063619Z",
     "iopub.status.busy": "2020-10-01T02:02:19.062576Z",
     "iopub.status.idle": "2020-10-01T02:02:19.066421Z",
     "shell.execute_reply": "2020-10-01T02:02:19.067155Z"
    },
    "papermill": {
     "duration": 0.034623,
     "end_time": "2020-10-01T02:02:19.067365",
     "exception": false,
     "start_time": "2020-10-01T02:02:19.032742",
     "status": "completed"
    },
    "tags": []
   },
   "outputs": [
    {
     "data": {
      "text/plain": [
       "((23814, 876), (3982, 876))"
      ]
     },
     "execution_count": 11,
     "metadata": {},
     "output_type": "execute_result"
    }
   ],
   "source": [
    "train_features.shape,test_features.shape"
   ]
  },
  {
   "cell_type": "code",
   "execution_count": 12,
   "metadata": {
    "execution": {
     "iopub.execute_input": "2020-10-01T02:02:19.140647Z",
     "iopub.status.busy": "2020-10-01T02:02:19.139644Z",
     "iopub.status.idle": "2020-10-01T02:02:19.144606Z",
     "shell.execute_reply": "2020-10-01T02:02:19.143659Z"
    },
    "papermill": {
     "duration": 0.044128,
     "end_time": "2020-10-01T02:02:19.144765",
     "exception": false,
     "start_time": "2020-10-01T02:02:19.100637",
     "status": "completed"
    },
    "tags": []
   },
   "outputs": [
    {
     "data": {
      "text/plain": [
       "((23814, 880), (3982, 880))"
      ]
     },
     "execution_count": 12,
     "metadata": {},
     "output_type": "execute_result"
    }
   ],
   "source": [
    "train_df.shape,test_df.shape"
   ]
  },
  {
   "cell_type": "code",
   "execution_count": 13,
   "metadata": {
    "execution": {
     "iopub.execute_input": "2020-10-01T02:02:19.313627Z",
     "iopub.status.busy": "2020-10-01T02:02:19.207199Z",
     "iopub.status.idle": "2020-10-01T02:02:19.327621Z",
     "shell.execute_reply": "2020-10-01T02:02:19.326697Z"
    },
    "papermill": {
     "duration": 0.153502,
     "end_time": "2020-10-01T02:02:19.327848",
     "exception": false,
     "start_time": "2020-10-01T02:02:19.174346",
     "status": "completed"
    },
    "tags": []
   },
   "outputs": [],
   "source": [
    "train_df.drop('sig_id',axis=1,inplace=True)\n",
    "test_df.drop('sig_id',axis=1,inplace=True)"
   ]
  },
  {
   "cell_type": "code",
   "execution_count": 14,
   "metadata": {
    "execution": {
     "iopub.execute_input": "2020-10-01T02:02:19.406261Z",
     "iopub.status.busy": "2020-10-01T02:02:19.405164Z",
     "iopub.status.idle": "2020-10-01T02:02:19.408344Z",
     "shell.execute_reply": "2020-10-01T02:02:19.407648Z"
    },
    "papermill": {
     "duration": 0.044572,
     "end_time": "2020-10-01T02:02:19.408475",
     "exception": false,
     "start_time": "2020-10-01T02:02:19.363903",
     "status": "completed"
    },
    "tags": []
   },
   "outputs": [],
   "source": [
    "kfolds=StratifiedKFold(n_splits=3,random_state=42,shuffle=True)"
   ]
  },
  {
   "cell_type": "code",
   "execution_count": 15,
   "metadata": {
    "execution": {
     "iopub.execute_input": "2020-10-01T02:02:19.467520Z",
     "iopub.status.busy": "2020-10-01T02:02:19.466416Z",
     "iopub.status.idle": "2020-10-01T02:02:19.470184Z",
     "shell.execute_reply": "2020-10-01T02:02:19.469511Z"
    },
    "papermill": {
     "duration": 0.035181,
     "end_time": "2020-10-01T02:02:19.470318",
     "exception": false,
     "start_time": "2020-10-01T02:02:19.435137",
     "status": "completed"
    },
    "tags": []
   },
   "outputs": [],
   "source": [
    "tar=['5-alpha_reductase_inhibitor','atp-sensitive_potassium_channel_antagonist','11-beta-hsd1_inhibitor']"
   ]
  },
  {
   "cell_type": "code",
   "execution_count": 16,
   "metadata": {
    "execution": {
     "iopub.execute_input": "2020-10-01T02:02:19.530679Z",
     "iopub.status.busy": "2020-10-01T02:02:19.529637Z",
     "iopub.status.idle": "2020-10-01T02:02:19.533260Z",
     "shell.execute_reply": "2020-10-01T02:02:19.532482Z"
    },
    "papermill": {
     "duration": 0.036807,
     "end_time": "2020-10-01T02:02:19.533387",
     "exception": false,
     "start_time": "2020-10-01T02:02:19.496580",
     "status": "completed"
    },
    "tags": []
   },
   "outputs": [],
   "source": [
    "feats=[c for c in train_features.columns if c not in ['sig_id']]"
   ]
  },
  {
   "cell_type": "code",
   "execution_count": 17,
   "metadata": {
    "execution": {
     "iopub.execute_input": "2020-10-01T02:02:19.596592Z",
     "iopub.status.busy": "2020-10-01T02:02:19.595612Z",
     "iopub.status.idle": "2020-10-01T02:02:19.599310Z",
     "shell.execute_reply": "2020-10-01T02:02:19.598531Z"
    },
    "papermill": {
     "duration": 0.038456,
     "end_time": "2020-10-01T02:02:19.599441",
     "exception": false,
     "start_time": "2020-10-01T02:02:19.560985",
     "status": "completed"
    },
    "tags": []
   },
   "outputs": [],
   "source": [
    "def log_loss_metric(y_true,y_preds):\n",
    "    \"\"\"\n",
    "    Custom Log loss\n",
    "    \"\"\"\n",
    "    y_pred_clip=np.clip(y_preds,1e-15,1-1e-15)\n",
    "    loss = - np.mean(np.mean(y_true * np.log(y_pred_clip) + (1 - y_true) * np.log(1 - y_pred_clip)))\n",
    "    return loss"
   ]
  },
  {
   "cell_type": "code",
   "execution_count": 18,
   "metadata": {
    "execution": {
     "iopub.execute_input": "2020-10-01T02:02:19.679380Z",
     "iopub.status.busy": "2020-10-01T02:02:19.678320Z",
     "iopub.status.idle": "2020-10-01T02:02:19.681944Z",
     "shell.execute_reply": "2020-10-01T02:02:19.681190Z"
    },
    "papermill": {
     "duration": 0.03539,
     "end_time": "2020-10-01T02:02:19.682074",
     "exception": false,
     "start_time": "2020-10-01T02:02:19.646684",
     "status": "completed"
    },
    "tags": []
   },
   "outputs": [],
   "source": [
    "#sel=VarianceThreshold(threshold=1.5).fit(train_features[feats])"
   ]
  },
  {
   "cell_type": "code",
   "execution_count": 19,
   "metadata": {
    "execution": {
     "iopub.execute_input": "2020-10-01T02:02:19.742972Z",
     "iopub.status.busy": "2020-10-01T02:02:19.742084Z",
     "iopub.status.idle": "2020-10-01T02:02:19.745567Z",
     "shell.execute_reply": "2020-10-01T02:02:19.744797Z"
    },
    "papermill": {
     "duration": 0.035496,
     "end_time": "2020-10-01T02:02:19.745696",
     "exception": false,
     "start_time": "2020-10-01T02:02:19.710200",
     "status": "completed"
    },
    "tags": []
   },
   "outputs": [],
   "source": [
    "# train_df=sel.transform(train_features[feats])\n",
    "# test_df=sel.transform(test_features[feats])\n"
   ]
  },
  {
   "cell_type": "code",
   "execution_count": 20,
   "metadata": {
    "execution": {
     "iopub.execute_input": "2020-10-01T02:02:19.806108Z",
     "iopub.status.busy": "2020-10-01T02:02:19.805356Z",
     "iopub.status.idle": "2020-10-01T02:02:19.810668Z",
     "shell.execute_reply": "2020-10-01T02:02:19.809996Z"
    },
    "papermill": {
     "duration": 0.037621,
     "end_time": "2020-10-01T02:02:19.810806",
     "exception": false,
     "start_time": "2020-10-01T02:02:19.773185",
     "status": "completed"
    },
    "tags": []
   },
   "outputs": [],
   "source": [
    "#train_targets_scored.shape,train_targets_scored.loc[tr_idx,:].shape"
   ]
  },
  {
   "cell_type": "code",
   "execution_count": 21,
   "metadata": {
    "_kg_hide-output": true,
    "execution": {
     "iopub.execute_input": "2020-10-01T02:02:19.872183Z",
     "iopub.status.busy": "2020-10-01T02:02:19.871330Z",
     "iopub.status.idle": "2020-10-01T02:02:19.874255Z",
     "shell.execute_reply": "2020-10-01T02:02:19.874908Z"
    },
    "papermill": {
     "duration": 0.036627,
     "end_time": "2020-10-01T02:02:19.875070",
     "exception": false,
     "start_time": "2020-10-01T02:02:19.838443",
     "status": "completed"
    },
    "tags": []
   },
   "outputs": [],
   "source": [
    "# scores=[]\n",
    "# non_pred_class=[]\n",
    "# for class_name in tar:\n",
    "#     #class_preds=np.zeros(len(train_targets_scored))\n",
    "#     train_targets=train_targets_scored[class_name]\n",
    "#     if train_targets.sum()>5:\n",
    "#         classifier=LogisticRegression(C=2,solver='saga',n_jobs=-1)\n",
    "#         cv_score=-np.mean(cross_val_score(classifier,train_df,train_targets,cv=3,scoring='neg_log_loss',n_jobs=-1))\n",
    "#         scores.append(cv_score)\n",
    "#         print(f'CV Score for class {class_name} is {cv_score}')\n",
    "        \n",
    "#         classifier.fit(train_df,train_targets)\n",
    "#         sample_submission[class_name]=classifier.predict_proba(test_df)[:,1]\n",
    "#     else:\n",
    "#         non_pred_class.append(class_name)\n",
    "    \n",
    "# print(f'Total CV Score is {np.mean(scores)}')"
   ]
  },
  {
   "cell_type": "code",
   "execution_count": 22,
   "metadata": {
    "execution": {
     "iopub.execute_input": "2020-10-01T02:02:19.947113Z",
     "iopub.status.busy": "2020-10-01T02:02:19.940414Z",
     "iopub.status.idle": "2020-10-01T04:18:15.243342Z",
     "shell.execute_reply": "2020-10-01T04:18:15.244030Z"
    },
    "papermill": {
     "duration": 8155.340441,
     "end_time": "2020-10-01T04:18:15.244223",
     "exception": false,
     "start_time": "2020-10-01T02:02:19.903782",
     "status": "completed"
    },
    "tags": []
   },
   "outputs": [
    {
     "name": "stdout",
     "output_type": "stream",
     "text": [
      "CV Score for class 5-alpha_reductase_inhibitor is 0.015801082670174247\n",
      "CV Score for class 11-beta-hsd1_inhibitor is 0.017638171749466604\n",
      "CV Score for class acat_inhibitor is 0.013376687040160951\n",
      "CV Score for class acetylcholine_receptor_agonist is 0.04805579224226402\n",
      "CV Score for class acetylcholine_receptor_antagonist is 0.06797743731930975\n",
      "CV Score for class acetylcholinesterase_inhibitor is 0.02258220889999844\n",
      "CV Score for class adenosine_receptor_agonist is 0.01781902289776865\n",
      "CV Score for class adenosine_receptor_antagonist is 0.028200093033047966\n",
      "CV Score for class adenylyl_cyclase_activator is 0.008196076364063415\n",
      "CV Score for class adrenergic_receptor_agonist is 0.06211252285862156\n",
      "CV Score for class adrenergic_receptor_antagonist is 0.0781515637079268\n",
      "CV Score for class akt_inhibitor is 0.017019271209349183\n",
      "CV Score for class aldehyde_dehydrogenase_inhibitor is 0.0018688173874662883\n",
      "CV Score for class alk_inhibitor is 0.013001748481713397\n",
      "CV Score for class ampk_activator is 0.014413887047874057\n",
      "CV Score for class analgesic is 0.015656417769063628\n",
      "CV Score for class androgen_receptor_agonist is 0.016256660350242858\n",
      "CV Score for class androgen_receptor_antagonist is 0.026732863595220036\n",
      "CV Score for class anesthetic_-_local is 0.024074005190930437\n",
      "CV Score for class angiogenesis_inhibitor is 0.013799288053253532\n",
      "CV Score for class angiotensin_receptor_antagonist is 0.01379844651275508\n",
      "CV Score for class anti-inflammatory is 0.021162765619859917\n",
      "CV Score for class antiarrhythmic is 0.009005469952077233\n",
      "CV Score for class antibiotic is 0.013469436262504013\n",
      "CV Score for class anticonvulsant is 0.016812478178713335\n",
      "CV Score for class antifungal is 0.013515717805684625\n",
      "CV Score for class antihistamine is 0.013315744262487326\n",
      "CV Score for class antimalarial is 0.01643753561787924\n",
      "CV Score for class antioxidant is 0.0220247855934993\n",
      "CV Score for class antiprotozoal is 0.01391131076183017\n",
      "CV Score for class antiviral is 0.009738401128559162\n",
      "CV Score for class apoptosis_stimulant is 0.015469748120741913\n",
      "CV Score for class aromatase_inhibitor is 0.016150890742914318\n",
      "CV Score for class atm_kinase_inhibitor is 0.007786277616565747\n",
      "CV Score for class atp_synthase_inhibitor is 0.002566902622741931\n",
      "CV Score for class atpase_inhibitor is 0.024289442080050974\n",
      "CV Score for class atr_kinase_inhibitor is 0.010368687593839914\n",
      "CV Score for class aurora_kinase_inhibitor is 0.01839675861999153\n",
      "CV Score for class autotaxin_inhibitor is 0.007828521179125485\n",
      "CV Score for class bacterial_30s_ribosomal_subunit_inhibitor is 0.019277899613354563\n",
      "CV Score for class bacterial_50s_ribosomal_subunit_inhibitor is 0.024063727569203937\n",
      "CV Score for class bacterial_antifolate is 0.014116864798770173\n",
      "CV Score for class bacterial_cell_wall_synthesis_inhibitor is 0.04845384640840273\n",
      "CV Score for class bacterial_dna_gyrase_inhibitor is 0.02691138401121988\n",
      "CV Score for class bacterial_dna_inhibitor is 0.031661579477378556\n",
      "CV Score for class bacterial_membrane_integrity_inhibitor is 0.0017276744701251352\n",
      "CV Score for class bcl_inhibitor is 0.010890953889382299\n",
      "CV Score for class bcr-abl_inhibitor is 0.012270247807841486\n",
      "CV Score for class benzodiazepine_receptor_agonist is 0.020796803208672693\n",
      "CV Score for class beta_amyloid_inhibitor is 0.010573287929199558\n",
      "CV Score for class bromodomain_inhibitor is 0.01579873968339662\n",
      "CV Score for class btk_inhibitor is 0.010655526809087297\n",
      "CV Score for class calcineurin_inhibitor is 0.006612808349839111\n",
      "CV Score for class calcium_channel_blocker is 0.06550660029986984\n",
      "CV Score for class cannabinoid_receptor_agonist is 0.01568077463922345\n",
      "CV Score for class cannabinoid_receptor_antagonist is 0.018556141941011694\n",
      "CV Score for class carbonic_anhydrase_inhibitor is 0.01416076811142049\n",
      "CV Score for class casein_kinase_inhibitor is 0.012714139820602106\n",
      "CV Score for class caspase_activator is 0.020256472509508603\n",
      "CV Score for class catechol_o_methyltransferase_inhibitor is 0.015672830854323385\n",
      "CV Score for class cc_chemokine_receptor_antagonist is 0.028988582374501415\n",
      "CV Score for class cck_receptor_antagonist is 0.015305345828892638\n",
      "CV Score for class cdk_inhibitor is 0.028185501414638086\n",
      "CV Score for class chelating_agent is 0.018188269699199903\n",
      "CV Score for class chk_inhibitor is 0.009356772196009193\n",
      "CV Score for class chloride_channel_blocker is 0.016004498213732066\n",
      "CV Score for class cholesterol_inhibitor is 0.0169318956998611\n",
      "CV Score for class cholinergic_receptor_antagonist is 0.01805553496530908\n",
      "CV Score for class coagulation_factor_inhibitor is 0.009029179947717764\n",
      "CV Score for class corticosteroid_agonist is 0.010629651219888776\n",
      "CV Score for class cyclooxygenase_inhibitor is 0.09038169668560009\n",
      "CV Score for class cytochrome_p450_inhibitor is 0.02924404381224706\n",
      "CV Score for class dihydrofolate_reductase_inhibitor is 0.011090001131492404\n",
      "CV Score for class dipeptidyl_peptidase_inhibitor is 0.010265624483840512\n",
      "CV Score for class diuretic is 0.006623115419971295\n",
      "CV Score for class dna_alkylating_agent is 0.01576684369868905\n",
      "CV Score for class dna_inhibitor is 0.08286521544313781\n",
      "CV Score for class dopamine_receptor_agonist is 0.033458027437958365\n",
      "CV Score for class dopamine_receptor_antagonist is 0.08834519949438756\n",
      "CV Score for class egfr_inhibitor is 0.0416751010575806\n",
      "CV Score for class elastase_inhibitor is 0.006627257371797612\n",
      "CV Score for class estrogen_receptor_agonist is 0.04121372973964323\n",
      "CV Score for class estrogen_receptor_antagonist is 0.016906532429109555\n",
      "CV Score for class faah_inhibitor is 0.013494093642265876\n",
      "CV Score for class farnesyltransferase_inhibitor is 0.011095041598975272\n",
      "CV Score for class fatty_acid_receptor_agonist is 0.012170864458729011\n",
      "CV Score for class fgfr_inhibitor is 0.013476433734775252\n",
      "CV Score for class flt3_inhibitor is 0.042123256636882135\n",
      "CV Score for class focal_adhesion_kinase_inhibitor is 0.007008280029555322\n",
      "CV Score for class free_radical_scavenger is 0.02245506148162966\n",
      "CV Score for class fungal_squalene_epoxidase_inhibitor is 0.013082201740087486\n",
      "CV Score for class gaba_receptor_agonist is 0.03003810012207457\n",
      "CV Score for class gaba_receptor_antagonist is 0.042169444332841886\n",
      "CV Score for class gamma_secretase_inhibitor is 0.014647864738258376\n",
      "CV Score for class glucocorticoid_receptor_agonist is 0.021146597283617497\n",
      "CV Score for class glutamate_inhibitor is 0.015971015724080505\n",
      "CV Score for class glutamate_receptor_agonist is 0.02222992930203307\n",
      "CV Score for class glutamate_receptor_antagonist is 0.0796523758917576\n",
      "CV Score for class gonadotropin_receptor_agonist is 0.01815631943865619\n",
      "CV Score for class gsk_inhibitor is 0.014242228566203122\n",
      "CV Score for class hcv_inhibitor is 0.022292601488667758\n",
      "CV Score for class hdac_inhibitor is 0.015608767255957964\n",
      "CV Score for class histamine_receptor_agonist is 0.019062826502979822\n",
      "CV Score for class histamine_receptor_antagonist is 0.057281300513781996\n",
      "CV Score for class histone_lysine_demethylase_inhibitor is 0.011623404734321474\n",
      "CV Score for class histone_lysine_methyltransferase_inhibitor is 0.012314357748629545\n",
      "CV Score for class hiv_inhibitor is 0.02234187324353439\n",
      "CV Score for class hmgcr_inhibitor is 0.03157727686224126\n",
      "CV Score for class hsp_inhibitor is 0.010871961154026525\n",
      "CV Score for class igf-1_inhibitor is 0.011940443760978437\n",
      "CV Score for class ikk_inhibitor is 0.008943720297474679\n",
      "CV Score for class imidazoline_receptor_agonist is 0.013013394590600394\n",
      "CV Score for class immunosuppressant is 0.02054784743250915\n",
      "CV Score for class insulin_secretagogue is 0.01163000286623176\n",
      "CV Score for class insulin_sensitizer is 0.014150075442433524\n",
      "CV Score for class integrin_inhibitor is 0.01525282114347789\n",
      "CV Score for class jak_inhibitor is 0.0186259932115922\n",
      "CV Score for class kit_inhibitor is 0.03757012825085677\n",
      "CV Score for class laxative is 0.0066172252200959155\n",
      "CV Score for class leukotriene_inhibitor is 0.006601181493825568\n",
      "CV Score for class leukotriene_receptor_antagonist is 0.019835184440339413\n",
      "CV Score for class lipase_inhibitor is 0.015656351511858718\n",
      "CV Score for class lipoxygenase_inhibitor is 0.01897527804553779\n",
      "CV Score for class lxr_agonist is 0.0065554881280926215\n",
      "CV Score for class mdm_inhibitor is 0.007028032255262443\n",
      "CV Score for class mek_inhibitor is 0.01226429438513608\n",
      "CV Score for class membrane_integrity_inhibitor is 0.022638630334173945\n",
      "CV Score for class mineralocorticoid_receptor_antagonist is 0.012208420683394184\n",
      "CV Score for class monoacylglycerol_lipase_inhibitor is 0.01445904658572938\n",
      "CV Score for class monoamine_oxidase_inhibitor is 0.025427293497600572\n",
      "CV Score for class monopolar_spindle_1_kinase_inhibitor is 0.01635840486616291\n",
      "CV Score for class mtor_inhibitor is 0.02036869709151043\n",
      "CV Score for class mucolytic_agent is 0.01673370984920936\n",
      "CV Score for class neuropeptide_receptor_antagonist is 0.013678031363627899\n",
      "CV Score for class nfkb_inhibitor is 0.03636427011973797\n",
      "CV Score for class nicotinic_receptor_agonist is 0.007783760172383815\n",
      "CV Score for class nitric_oxide_donor is 0.013104537725848764\n",
      "CV Score for class nitric_oxide_production_inhibitor is 0.010506112162395546\n",
      "CV Score for class nitric_oxide_synthase_inhibitor is 0.013953684871379574\n",
      "CV Score for class norepinephrine_reuptake_inhibitor is 0.01051413597973442\n",
      "CV Score for class nrf2_activator is 0.007033490618916056\n",
      "CV Score for class opioid_receptor_agonist is 0.019895239539201196\n",
      "CV Score for class opioid_receptor_antagonist is 0.027442984780743734\n",
      "CV Score for class orexin_receptor_antagonist is 0.014675915193671276\n",
      "CV Score for class p38_mapk_inhibitor is 0.013951938459216634\n",
      "CV Score for class p-glycoprotein_inhibitor is 0.011803695412899391\n",
      "CV Score for class parp_inhibitor is 0.018659494166566752\n",
      "CV Score for class pdgfr_inhibitor is 0.040017319839945796\n",
      "CV Score for class pdk_inhibitor is 0.022537491562301587\n",
      "CV Score for class phosphodiesterase_inhibitor is 0.06096595164102989\n",
      "CV Score for class phospholipase_inhibitor is 0.011222812700192994\n",
      "CV Score for class pi3k_inhibitor is 0.03250509513133579\n",
      "CV Score for class pkc_inhibitor is 0.011503076330515337\n",
      "CV Score for class potassium_channel_activator is 0.018392456242604032\n",
      "CV Score for class potassium_channel_antagonist is 0.029166347294949834\n",
      "CV Score for class ppar_receptor_agonist is 0.027881386886659948\n",
      "CV Score for class ppar_receptor_antagonist is 0.012306073161916125\n",
      "CV Score for class progesterone_receptor_agonist is 0.03223226561266628\n",
      "CV Score for class progesterone_receptor_antagonist is 0.015074269274197152\n",
      "CV Score for class prostaglandin_inhibitor is 0.014201805070619229\n",
      "CV Score for class prostanoid_receptor_antagonist is 0.025526655907257657\n",
      "CV Score for class proteasome_inhibitor is 0.007823472868777768\n",
      "CV Score for class protein_kinase_inhibitor is 0.016321942512227478\n",
      "CV Score for class protein_phosphatase_inhibitor is 0.007796410869003455\n",
      "CV Score for class protein_synthesis_inhibitor is 0.025208429827082577\n",
      "CV Score for class protein_tyrosine_kinase_inhibitor is 0.016371668461465257\n",
      "CV Score for class radiopaque_medium is 0.01823227602598797\n",
      "CV Score for class raf_inhibitor is 0.016034570243839395\n",
      "CV Score for class ras_gtpase_inhibitor is 0.013064194651808638\n",
      "CV Score for class retinoid_receptor_agonist is 0.015296864915043085\n",
      "CV Score for class retinoid_receptor_antagonist is 0.007820994004283101\n",
      "CV Score for class rho_associated_kinase_inhibitor is 0.012313923810418624\n",
      "CV Score for class ribonucleoside_reductase_inhibitor is 0.011062960319238745\n",
      "CV Score for class rna_polymerase_inhibitor is 0.010973980140522569\n",
      "CV Score for class serotonin_receptor_agonist is 0.056272499795331\n",
      "CV Score for class serotonin_receptor_antagonist is 0.084806259945737\n",
      "CV Score for class serotonin_reuptake_inhibitor is 0.015955561577444117\n",
      "CV Score for class sigma_receptor_agonist is 0.013688205146659702\n",
      "CV Score for class sigma_receptor_antagonist is 0.013909136097425707\n",
      "CV Score for class smoothened_receptor_antagonist is 0.01062991304586662\n",
      "CV Score for class sodium_channel_inhibitor is 0.06244736447721936\n",
      "CV Score for class sphingosine_receptor_agonist is 0.012074110833189017\n",
      "CV Score for class src_inhibitor is 0.018297323965484984\n",
      "CV Score for class steroid is 0.009000462663218661\n",
      "CV Score for class syk_inhibitor is 0.012405783552236265\n",
      "CV Score for class tachykinin_antagonist is 0.019409335352061755\n",
      "CV Score for class tgf-beta_receptor_inhibitor is 0.004433626578026979\n",
      "CV Score for class thrombin_inhibitor is 0.019051925569170246\n",
      "CV Score for class thymidylate_synthase_inhibitor is 0.012391648670042776\n",
      "CV Score for class tlr_agonist is 0.012642852723734707\n",
      "CV Score for class tlr_antagonist is 0.010488857737578664\n",
      "CV Score for class tnf_inhibitor is 0.013010448183674118\n",
      "CV Score for class topoisomerase_inhibitor is 0.02043344082049816\n",
      "CV Score for class transient_receptor_potential_channel_antagonist is 0.02346374176352235\n",
      "CV Score for class tropomyosin_receptor_kinase_inhibitor is 0.008985485555978404\n",
      "CV Score for class trpv_agonist is 0.009360056295547117\n",
      "CV Score for class trpv_antagonist is 0.01621665209048583\n",
      "CV Score for class tubulin_inhibitor is 0.03243029819193142\n",
      "CV Score for class tyrosine_kinase_inhibitor is 0.021563679011235137\n",
      "CV Score for class ubiquitin_specific_protease_inhibitor is 0.007795701564398222\n",
      "CV Score for class vegfr_inhibitor is 0.03296354311644308\n",
      "CV Score for class vitamin_b is 0.011035759794362306\n",
      "CV Score for class vitamin_d_receptor_agonist is 0.010999247494058298\n",
      "CV Score for class wnt_inhibitor is 0.012174678292365196\n",
      "Total CV Score is 0.02048712921320864\n"
     ]
    }
   ],
   "source": [
    "scores=[]\n",
    "non_pred_class=[]\n",
    "for class_name in targets:\n",
    "    #class_preds=np.zeros(len(train_targets_scored))\n",
    "    train_targets=train_targets_scored[class_name]\n",
    "    if train_targets.sum()>5:\n",
    "        classifier=RandomForestClassifier(n_estimators=80,\n",
    "                                         max_depth=10,\n",
    "                                         min_samples_split=10,\n",
    "                                        min_samples_leaf=10,\n",
    "                                          max_features='sqrt',\n",
    "                                         n_jobs=-1,\n",
    "                                         random_state=42\n",
    "                                         )\n",
    "        cv_score=-np.mean(cross_val_score(classifier,train_df,train_targets,cv=3,scoring='neg_log_loss',n_jobs=-1))\n",
    "        scores.append(cv_score)\n",
    "        print(f'CV Score for class {class_name} is {cv_score}')\n",
    "        \n",
    "        classifier.fit(train_df,train_targets)\n",
    "        sample_submission[class_name]=classifier.predict_proba(test_df)[:,1]\n",
    "    else:\n",
    "        non_pred_class.append(class_name)\n",
    "    \n",
    "print(f'Total CV Score is {np.mean(scores)}')"
   ]
  },
  {
   "cell_type": "code",
   "execution_count": 23,
   "metadata": {
    "execution": {
     "iopub.execute_input": "2020-10-01T04:18:15.490483Z",
     "iopub.status.busy": "2020-10-01T04:18:15.480435Z",
     "iopub.status.idle": "2020-10-01T04:18:15.500215Z",
     "shell.execute_reply": "2020-10-01T04:18:15.499457Z"
    },
    "papermill": {
     "duration": 0.146915,
     "end_time": "2020-10-01T04:18:15.500339",
     "exception": false,
     "start_time": "2020-10-01T04:18:15.353424",
     "status": "completed"
    },
    "tags": []
   },
   "outputs": [
    {
     "data": {
      "text/html": [
       "<div>\n",
       "<style scoped>\n",
       "    .dataframe tbody tr th:only-of-type {\n",
       "        vertical-align: middle;\n",
       "    }\n",
       "\n",
       "    .dataframe tbody tr th {\n",
       "        vertical-align: top;\n",
       "    }\n",
       "\n",
       "    .dataframe thead th {\n",
       "        text-align: right;\n",
       "    }\n",
       "</style>\n",
       "<table border=\"1\" class=\"dataframe\">\n",
       "  <thead>\n",
       "    <tr style=\"text-align: right;\">\n",
       "      <th></th>\n",
       "      <th>sig_id</th>\n",
       "      <th>5-alpha_reductase_inhibitor</th>\n",
       "      <th>11-beta-hsd1_inhibitor</th>\n",
       "      <th>acat_inhibitor</th>\n",
       "      <th>acetylcholine_receptor_agonist</th>\n",
       "      <th>acetylcholine_receptor_antagonist</th>\n",
       "      <th>acetylcholinesterase_inhibitor</th>\n",
       "      <th>adenosine_receptor_agonist</th>\n",
       "      <th>adenosine_receptor_antagonist</th>\n",
       "      <th>adenylyl_cyclase_activator</th>\n",
       "      <th>...</th>\n",
       "      <th>tropomyosin_receptor_kinase_inhibitor</th>\n",
       "      <th>trpv_agonist</th>\n",
       "      <th>trpv_antagonist</th>\n",
       "      <th>tubulin_inhibitor</th>\n",
       "      <th>tyrosine_kinase_inhibitor</th>\n",
       "      <th>ubiquitin_specific_protease_inhibitor</th>\n",
       "      <th>vegfr_inhibitor</th>\n",
       "      <th>vitamin_b</th>\n",
       "      <th>vitamin_d_receptor_agonist</th>\n",
       "      <th>wnt_inhibitor</th>\n",
       "    </tr>\n",
       "  </thead>\n",
       "  <tbody>\n",
       "    <tr>\n",
       "      <th>0</th>\n",
       "      <td>id_0004d9e33</td>\n",
       "      <td>0.000006</td>\n",
       "      <td>0.000003</td>\n",
       "      <td>0.000065</td>\n",
       "      <td>0.018274</td>\n",
       "      <td>0.018840</td>\n",
       "      <td>0.001251</td>\n",
       "      <td>0.000470</td>\n",
       "      <td>0.002358</td>\n",
       "      <td>0.0</td>\n",
       "      <td>...</td>\n",
       "      <td>0.0</td>\n",
       "      <td>0.000056</td>\n",
       "      <td>0.000640</td>\n",
       "      <td>0.001228</td>\n",
       "      <td>0.001076</td>\n",
       "      <td>0.0</td>\n",
       "      <td>0.002655</td>\n",
       "      <td>0.000809</td>\n",
       "      <td>0.000136</td>\n",
       "      <td>0.000316</td>\n",
       "    </tr>\n",
       "    <tr>\n",
       "      <th>1</th>\n",
       "      <td>id_001897cda</td>\n",
       "      <td>0.000000</td>\n",
       "      <td>0.000011</td>\n",
       "      <td>0.000069</td>\n",
       "      <td>0.004360</td>\n",
       "      <td>0.010994</td>\n",
       "      <td>0.001406</td>\n",
       "      <td>0.000309</td>\n",
       "      <td>0.003673</td>\n",
       "      <td>0.0</td>\n",
       "      <td>...</td>\n",
       "      <td>0.0</td>\n",
       "      <td>0.000030</td>\n",
       "      <td>0.003664</td>\n",
       "      <td>0.005826</td>\n",
       "      <td>0.000990</td>\n",
       "      <td>0.0</td>\n",
       "      <td>0.013837</td>\n",
       "      <td>0.000050</td>\n",
       "      <td>0.000092</td>\n",
       "      <td>0.000766</td>\n",
       "    </tr>\n",
       "    <tr>\n",
       "      <th>2</th>\n",
       "      <td>id_002429b5b</td>\n",
       "      <td>0.000008</td>\n",
       "      <td>0.004471</td>\n",
       "      <td>0.000056</td>\n",
       "      <td>0.007220</td>\n",
       "      <td>0.008143</td>\n",
       "      <td>0.001092</td>\n",
       "      <td>0.003148</td>\n",
       "      <td>0.001955</td>\n",
       "      <td>0.0</td>\n",
       "      <td>...</td>\n",
       "      <td>0.0</td>\n",
       "      <td>0.000037</td>\n",
       "      <td>0.000576</td>\n",
       "      <td>0.006064</td>\n",
       "      <td>0.005810</td>\n",
       "      <td>0.0</td>\n",
       "      <td>0.008272</td>\n",
       "      <td>0.002733</td>\n",
       "      <td>0.000109</td>\n",
       "      <td>0.000238</td>\n",
       "    </tr>\n",
       "    <tr>\n",
       "      <th>3</th>\n",
       "      <td>id_00276f245</td>\n",
       "      <td>0.000002</td>\n",
       "      <td>0.000006</td>\n",
       "      <td>0.000049</td>\n",
       "      <td>0.006830</td>\n",
       "      <td>0.008610</td>\n",
       "      <td>0.001166</td>\n",
       "      <td>0.000493</td>\n",
       "      <td>0.003765</td>\n",
       "      <td>0.0</td>\n",
       "      <td>...</td>\n",
       "      <td>0.0</td>\n",
       "      <td>0.000061</td>\n",
       "      <td>0.002057</td>\n",
       "      <td>0.001330</td>\n",
       "      <td>0.001255</td>\n",
       "      <td>0.0</td>\n",
       "      <td>0.005737</td>\n",
       "      <td>0.005035</td>\n",
       "      <td>0.000107</td>\n",
       "      <td>0.000225</td>\n",
       "    </tr>\n",
       "    <tr>\n",
       "      <th>4</th>\n",
       "      <td>id_0027f1083</td>\n",
       "      <td>0.000002</td>\n",
       "      <td>0.000010</td>\n",
       "      <td>0.000092</td>\n",
       "      <td>0.006639</td>\n",
       "      <td>0.009615</td>\n",
       "      <td>0.001360</td>\n",
       "      <td>0.002648</td>\n",
       "      <td>0.004870</td>\n",
       "      <td>0.0</td>\n",
       "      <td>...</td>\n",
       "      <td>0.0</td>\n",
       "      <td>0.000663</td>\n",
       "      <td>0.000631</td>\n",
       "      <td>0.011350</td>\n",
       "      <td>0.000863</td>\n",
       "      <td>0.0</td>\n",
       "      <td>0.001398</td>\n",
       "      <td>0.001598</td>\n",
       "      <td>0.000075</td>\n",
       "      <td>0.000191</td>\n",
       "    </tr>\n",
       "  </tbody>\n",
       "</table>\n",
       "<p>5 rows × 207 columns</p>\n",
       "</div>"
      ],
      "text/plain": [
       "         sig_id  5-alpha_reductase_inhibitor  11-beta-hsd1_inhibitor  \\\n",
       "0  id_0004d9e33                     0.000006                0.000003   \n",
       "1  id_001897cda                     0.000000                0.000011   \n",
       "2  id_002429b5b                     0.000008                0.004471   \n",
       "3  id_00276f245                     0.000002                0.000006   \n",
       "4  id_0027f1083                     0.000002                0.000010   \n",
       "\n",
       "   acat_inhibitor  acetylcholine_receptor_agonist  \\\n",
       "0        0.000065                        0.018274   \n",
       "1        0.000069                        0.004360   \n",
       "2        0.000056                        0.007220   \n",
       "3        0.000049                        0.006830   \n",
       "4        0.000092                        0.006639   \n",
       "\n",
       "   acetylcholine_receptor_antagonist  acetylcholinesterase_inhibitor  \\\n",
       "0                           0.018840                        0.001251   \n",
       "1                           0.010994                        0.001406   \n",
       "2                           0.008143                        0.001092   \n",
       "3                           0.008610                        0.001166   \n",
       "4                           0.009615                        0.001360   \n",
       "\n",
       "   adenosine_receptor_agonist  adenosine_receptor_antagonist  \\\n",
       "0                    0.000470                       0.002358   \n",
       "1                    0.000309                       0.003673   \n",
       "2                    0.003148                       0.001955   \n",
       "3                    0.000493                       0.003765   \n",
       "4                    0.002648                       0.004870   \n",
       "\n",
       "   adenylyl_cyclase_activator  ...  tropomyosin_receptor_kinase_inhibitor  \\\n",
       "0                         0.0  ...                                    0.0   \n",
       "1                         0.0  ...                                    0.0   \n",
       "2                         0.0  ...                                    0.0   \n",
       "3                         0.0  ...                                    0.0   \n",
       "4                         0.0  ...                                    0.0   \n",
       "\n",
       "   trpv_agonist  trpv_antagonist  tubulin_inhibitor  \\\n",
       "0      0.000056         0.000640           0.001228   \n",
       "1      0.000030         0.003664           0.005826   \n",
       "2      0.000037         0.000576           0.006064   \n",
       "3      0.000061         0.002057           0.001330   \n",
       "4      0.000663         0.000631           0.011350   \n",
       "\n",
       "   tyrosine_kinase_inhibitor  ubiquitin_specific_protease_inhibitor  \\\n",
       "0                   0.001076                                    0.0   \n",
       "1                   0.000990                                    0.0   \n",
       "2                   0.005810                                    0.0   \n",
       "3                   0.001255                                    0.0   \n",
       "4                   0.000863                                    0.0   \n",
       "\n",
       "   vegfr_inhibitor  vitamin_b  vitamin_d_receptor_agonist  wnt_inhibitor  \n",
       "0         0.002655   0.000809                    0.000136       0.000316  \n",
       "1         0.013837   0.000050                    0.000092       0.000766  \n",
       "2         0.008272   0.002733                    0.000109       0.000238  \n",
       "3         0.005737   0.005035                    0.000107       0.000225  \n",
       "4         0.001398   0.001598                    0.000075       0.000191  \n",
       "\n",
       "[5 rows x 207 columns]"
      ]
     },
     "execution_count": 23,
     "metadata": {},
     "output_type": "execute_result"
    }
   ],
   "source": [
    "sample_submission.head()"
   ]
  },
  {
   "cell_type": "code",
   "execution_count": 24,
   "metadata": {
    "execution": {
     "iopub.execute_input": "2020-10-01T04:18:15.727574Z",
     "iopub.status.busy": "2020-10-01T04:18:15.726301Z",
     "iopub.status.idle": "2020-10-01T04:18:15.787206Z",
     "shell.execute_reply": "2020-10-01T04:18:15.786498Z"
    },
    "papermill": {
     "duration": 0.176805,
     "end_time": "2020-10-01T04:18:15.787347",
     "exception": false,
     "start_time": "2020-10-01T04:18:15.610542",
     "status": "completed"
    },
    "tags": []
   },
   "outputs": [
    {
     "name": "stderr",
     "output_type": "stream",
     "text": [
      "/opt/conda/lib/python3.7/site-packages/ipykernel_launcher.py:2: FutureWarning: Slicing a positional slice with .loc is not supported, and will raise TypeError in a future version.  Use .loc with labels or .iloc with positions instead.\n",
      "  \n"
     ]
    }
   ],
   "source": [
    "sample_submission.loc[:,non_pred_class]=0\n",
    "sample_submission.loc[sample_submission['sig_id'].isin(ctrl_vehicle_idx),1:]=0"
   ]
  },
  {
   "cell_type": "code",
   "execution_count": 25,
   "metadata": {
    "execution": {
     "iopub.execute_input": "2020-10-01T04:18:16.039348Z",
     "iopub.status.busy": "2020-10-01T04:18:16.034957Z",
     "iopub.status.idle": "2020-10-01T04:18:16.044849Z",
     "shell.execute_reply": "2020-10-01T04:18:16.044111Z"
    },
    "papermill": {
     "duration": 0.145816,
     "end_time": "2020-10-01T04:18:16.044986",
     "exception": false,
     "start_time": "2020-10-01T04:18:15.899170",
     "status": "completed"
    },
    "tags": []
   },
   "outputs": [
    {
     "data": {
      "text/html": [
       "<div>\n",
       "<style scoped>\n",
       "    .dataframe tbody tr th:only-of-type {\n",
       "        vertical-align: middle;\n",
       "    }\n",
       "\n",
       "    .dataframe tbody tr th {\n",
       "        vertical-align: top;\n",
       "    }\n",
       "\n",
       "    .dataframe thead th {\n",
       "        text-align: right;\n",
       "    }\n",
       "</style>\n",
       "<table border=\"1\" class=\"dataframe\">\n",
       "  <thead>\n",
       "    <tr style=\"text-align: right;\">\n",
       "      <th></th>\n",
       "      <th>sig_id</th>\n",
       "      <th>5-alpha_reductase_inhibitor</th>\n",
       "      <th>11-beta-hsd1_inhibitor</th>\n",
       "      <th>acat_inhibitor</th>\n",
       "      <th>acetylcholine_receptor_agonist</th>\n",
       "      <th>acetylcholine_receptor_antagonist</th>\n",
       "      <th>acetylcholinesterase_inhibitor</th>\n",
       "      <th>adenosine_receptor_agonist</th>\n",
       "      <th>adenosine_receptor_antagonist</th>\n",
       "      <th>adenylyl_cyclase_activator</th>\n",
       "      <th>...</th>\n",
       "      <th>tropomyosin_receptor_kinase_inhibitor</th>\n",
       "      <th>trpv_agonist</th>\n",
       "      <th>trpv_antagonist</th>\n",
       "      <th>tubulin_inhibitor</th>\n",
       "      <th>tyrosine_kinase_inhibitor</th>\n",
       "      <th>ubiquitin_specific_protease_inhibitor</th>\n",
       "      <th>vegfr_inhibitor</th>\n",
       "      <th>vitamin_b</th>\n",
       "      <th>vitamin_d_receptor_agonist</th>\n",
       "      <th>wnt_inhibitor</th>\n",
       "    </tr>\n",
       "  </thead>\n",
       "  <tbody>\n",
       "    <tr>\n",
       "      <th>0</th>\n",
       "      <td>id_0004d9e33</td>\n",
       "      <td>0.000006</td>\n",
       "      <td>0.000003</td>\n",
       "      <td>0.000065</td>\n",
       "      <td>0.018274</td>\n",
       "      <td>0.018840</td>\n",
       "      <td>0.001251</td>\n",
       "      <td>0.000470</td>\n",
       "      <td>0.002358</td>\n",
       "      <td>0.0</td>\n",
       "      <td>...</td>\n",
       "      <td>0.0</td>\n",
       "      <td>0.000056</td>\n",
       "      <td>0.000640</td>\n",
       "      <td>0.001228</td>\n",
       "      <td>0.001076</td>\n",
       "      <td>0.0</td>\n",
       "      <td>0.002655</td>\n",
       "      <td>0.000809</td>\n",
       "      <td>0.000136</td>\n",
       "      <td>0.000316</td>\n",
       "    </tr>\n",
       "    <tr>\n",
       "      <th>1</th>\n",
       "      <td>id_001897cda</td>\n",
       "      <td>0.000000</td>\n",
       "      <td>0.000011</td>\n",
       "      <td>0.000069</td>\n",
       "      <td>0.004360</td>\n",
       "      <td>0.010994</td>\n",
       "      <td>0.001406</td>\n",
       "      <td>0.000309</td>\n",
       "      <td>0.003673</td>\n",
       "      <td>0.0</td>\n",
       "      <td>...</td>\n",
       "      <td>0.0</td>\n",
       "      <td>0.000030</td>\n",
       "      <td>0.003664</td>\n",
       "      <td>0.005826</td>\n",
       "      <td>0.000990</td>\n",
       "      <td>0.0</td>\n",
       "      <td>0.013837</td>\n",
       "      <td>0.000050</td>\n",
       "      <td>0.000092</td>\n",
       "      <td>0.000766</td>\n",
       "    </tr>\n",
       "    <tr>\n",
       "      <th>2</th>\n",
       "      <td>id_002429b5b</td>\n",
       "      <td>0.000000</td>\n",
       "      <td>0.000000</td>\n",
       "      <td>0.000000</td>\n",
       "      <td>0.000000</td>\n",
       "      <td>0.000000</td>\n",
       "      <td>0.000000</td>\n",
       "      <td>0.000000</td>\n",
       "      <td>0.000000</td>\n",
       "      <td>0.0</td>\n",
       "      <td>...</td>\n",
       "      <td>0.0</td>\n",
       "      <td>0.000000</td>\n",
       "      <td>0.000000</td>\n",
       "      <td>0.000000</td>\n",
       "      <td>0.000000</td>\n",
       "      <td>0.0</td>\n",
       "      <td>0.000000</td>\n",
       "      <td>0.000000</td>\n",
       "      <td>0.000000</td>\n",
       "      <td>0.000000</td>\n",
       "    </tr>\n",
       "    <tr>\n",
       "      <th>3</th>\n",
       "      <td>id_00276f245</td>\n",
       "      <td>0.000002</td>\n",
       "      <td>0.000006</td>\n",
       "      <td>0.000049</td>\n",
       "      <td>0.006830</td>\n",
       "      <td>0.008610</td>\n",
       "      <td>0.001166</td>\n",
       "      <td>0.000493</td>\n",
       "      <td>0.003765</td>\n",
       "      <td>0.0</td>\n",
       "      <td>...</td>\n",
       "      <td>0.0</td>\n",
       "      <td>0.000061</td>\n",
       "      <td>0.002057</td>\n",
       "      <td>0.001330</td>\n",
       "      <td>0.001255</td>\n",
       "      <td>0.0</td>\n",
       "      <td>0.005737</td>\n",
       "      <td>0.005035</td>\n",
       "      <td>0.000107</td>\n",
       "      <td>0.000225</td>\n",
       "    </tr>\n",
       "    <tr>\n",
       "      <th>4</th>\n",
       "      <td>id_0027f1083</td>\n",
       "      <td>0.000002</td>\n",
       "      <td>0.000010</td>\n",
       "      <td>0.000092</td>\n",
       "      <td>0.006639</td>\n",
       "      <td>0.009615</td>\n",
       "      <td>0.001360</td>\n",
       "      <td>0.002648</td>\n",
       "      <td>0.004870</td>\n",
       "      <td>0.0</td>\n",
       "      <td>...</td>\n",
       "      <td>0.0</td>\n",
       "      <td>0.000663</td>\n",
       "      <td>0.000631</td>\n",
       "      <td>0.011350</td>\n",
       "      <td>0.000863</td>\n",
       "      <td>0.0</td>\n",
       "      <td>0.001398</td>\n",
       "      <td>0.001598</td>\n",
       "      <td>0.000075</td>\n",
       "      <td>0.000191</td>\n",
       "    </tr>\n",
       "  </tbody>\n",
       "</table>\n",
       "<p>5 rows × 207 columns</p>\n",
       "</div>"
      ],
      "text/plain": [
       "         sig_id  5-alpha_reductase_inhibitor  11-beta-hsd1_inhibitor  \\\n",
       "0  id_0004d9e33                     0.000006                0.000003   \n",
       "1  id_001897cda                     0.000000                0.000011   \n",
       "2  id_002429b5b                     0.000000                0.000000   \n",
       "3  id_00276f245                     0.000002                0.000006   \n",
       "4  id_0027f1083                     0.000002                0.000010   \n",
       "\n",
       "   acat_inhibitor  acetylcholine_receptor_agonist  \\\n",
       "0        0.000065                        0.018274   \n",
       "1        0.000069                        0.004360   \n",
       "2        0.000000                        0.000000   \n",
       "3        0.000049                        0.006830   \n",
       "4        0.000092                        0.006639   \n",
       "\n",
       "   acetylcholine_receptor_antagonist  acetylcholinesterase_inhibitor  \\\n",
       "0                           0.018840                        0.001251   \n",
       "1                           0.010994                        0.001406   \n",
       "2                           0.000000                        0.000000   \n",
       "3                           0.008610                        0.001166   \n",
       "4                           0.009615                        0.001360   \n",
       "\n",
       "   adenosine_receptor_agonist  adenosine_receptor_antagonist  \\\n",
       "0                    0.000470                       0.002358   \n",
       "1                    0.000309                       0.003673   \n",
       "2                    0.000000                       0.000000   \n",
       "3                    0.000493                       0.003765   \n",
       "4                    0.002648                       0.004870   \n",
       "\n",
       "   adenylyl_cyclase_activator  ...  tropomyosin_receptor_kinase_inhibitor  \\\n",
       "0                         0.0  ...                                    0.0   \n",
       "1                         0.0  ...                                    0.0   \n",
       "2                         0.0  ...                                    0.0   \n",
       "3                         0.0  ...                                    0.0   \n",
       "4                         0.0  ...                                    0.0   \n",
       "\n",
       "   trpv_agonist  trpv_antagonist  tubulin_inhibitor  \\\n",
       "0      0.000056         0.000640           0.001228   \n",
       "1      0.000030         0.003664           0.005826   \n",
       "2      0.000000         0.000000           0.000000   \n",
       "3      0.000061         0.002057           0.001330   \n",
       "4      0.000663         0.000631           0.011350   \n",
       "\n",
       "   tyrosine_kinase_inhibitor  ubiquitin_specific_protease_inhibitor  \\\n",
       "0                   0.001076                                    0.0   \n",
       "1                   0.000990                                    0.0   \n",
       "2                   0.000000                                    0.0   \n",
       "3                   0.001255                                    0.0   \n",
       "4                   0.000863                                    0.0   \n",
       "\n",
       "   vegfr_inhibitor  vitamin_b  vitamin_d_receptor_agonist  wnt_inhibitor  \n",
       "0         0.002655   0.000809                    0.000136       0.000316  \n",
       "1         0.013837   0.000050                    0.000092       0.000766  \n",
       "2         0.000000   0.000000                    0.000000       0.000000  \n",
       "3         0.005737   0.005035                    0.000107       0.000225  \n",
       "4         0.001398   0.001598                    0.000075       0.000191  \n",
       "\n",
       "[5 rows x 207 columns]"
      ]
     },
     "execution_count": 25,
     "metadata": {},
     "output_type": "execute_result"
    }
   ],
   "source": [
    "sample_submission.head()"
   ]
  },
  {
   "cell_type": "code",
   "execution_count": 26,
   "metadata": {
    "execution": {
     "iopub.execute_input": "2020-10-01T04:18:16.273697Z",
     "iopub.status.busy": "2020-10-01T04:18:16.272588Z",
     "iopub.status.idle": "2020-10-01T04:18:18.657508Z",
     "shell.execute_reply": "2020-10-01T04:18:18.656711Z"
    },
    "papermill": {
     "duration": 2.501945,
     "end_time": "2020-10-01T04:18:18.657636",
     "exception": false,
     "start_time": "2020-10-01T04:18:16.155691",
     "status": "completed"
    },
    "tags": []
   },
   "outputs": [],
   "source": [
    "#feature_importance_df.to_csv('feature_importance.csv',index=False)\n",
    "sample_submission.to_csv('submission.csv',index=False)"
   ]
  }
 ],
 "metadata": {
  "kernelspec": {
   "display_name": "Python 3",
   "language": "python",
   "name": "python3"
  },
  "language_info": {
   "codemirror_mode": {
    "name": "ipython",
    "version": 3
   },
   "file_extension": ".py",
   "mimetype": "text/x-python",
   "name": "python",
   "nbconvert_exporter": "python",
   "pygments_lexer": "ipython3",
   "version": "3.7.6"
  },
  "papermill": {
   "duration": 8174.514057,
   "end_time": "2020-10-01T04:18:18.882569",
   "environment_variables": {},
   "exception": null,
   "input_path": "__notebook__.ipynb",
   "output_path": "__notebook__.ipynb",
   "parameters": {},
   "start_time": "2020-10-01T02:02:04.368512",
   "version": "2.1.0"
  }
 },
 "nbformat": 4,
 "nbformat_minor": 4
}
